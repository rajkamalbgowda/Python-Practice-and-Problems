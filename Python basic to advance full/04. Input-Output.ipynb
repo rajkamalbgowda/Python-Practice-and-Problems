{
 "cells": [
  {
   "cell_type": "markdown",
   "metadata": {},
   "source": [
    "# Taking input in Python\n"
   ]
  },
  {
   "cell_type": "markdown",
   "metadata": {},
   "source": [
    "Developers often have a need to interact with users, either to get data or to provide some sort of result. Most programs today use a dialog box as a way of asking the user to provide some type of input. While Python provides us with two inbuilt functions to read the input from the keyboard."
   ]
  },
  {
   "cell_type": "markdown",
   "metadata": {},
   "source": [
    "- raw_input ( prompt )\n",
    "- input ( prompt )"
   ]
  },
  {
   "cell_type": "markdown",
   "metadata": {},
   "source": [
    "#### raw_input ( ) : \n",
    "This function works in older version (like Python 2.x). This function takes exactly what is typed from the keyboard, convert it to string and then return it to the variable in which we want to store."
   ]
  },
  {
   "cell_type": "markdown",
   "metadata": {},
   "source": [
    "- g = raw_input(\"Enter your name : \") "
   ]
  },
  {
   "cell_type": "markdown",
   "metadata": {},
   "source": [
    "#### input ( ) : \n",
    "This function first takes the input from the user and then evaluates the expression, which means Python automatically identifies whether user entered a string or a number or list. If the input provided is not correct then either syntax error or exception is raised by python."
   ]
  },
  {
   "cell_type": "code",
   "execution_count": 3,
   "metadata": {},
   "outputs": [
    {
     "name": "stdout",
     "output_type": "stream",
     "text": [
      "Enter your value: 25\n",
      "25\n"
     ]
    }
   ],
   "source": [
    "val = input(\"Enter your value: \") \n",
    "print(val) "
   ]
  },
  {
   "cell_type": "code",
   "execution_count": 4,
   "metadata": {},
   "outputs": [
    {
     "name": "stdout",
     "output_type": "stream",
     "text": [
      "Enter your value: rajkamal\n",
      "rajkamal\n"
     ]
    }
   ],
   "source": [
    "val = input(\"Enter your value: \") \n",
    "print(val) "
   ]
  },
  {
   "cell_type": "markdown",
   "metadata": {},
   "source": [
    "Whatever you enter as input, input function convert it into a string. if you enter an integer value still input() function convert it into a string. You need to explicitly convert it into an integer in your code using typecasting."
   ]
  },
  {
   "cell_type": "code",
   "execution_count": 13,
   "metadata": {},
   "outputs": [
    {
     "name": "stdout",
     "output_type": "stream",
     "text": [
      "Enter number :25\n",
      "25\n"
     ]
    }
   ],
   "source": [
    "\"\"\" Program to check input type in Python \"\"\"\n",
    "\n",
    "num = input (\"Enter number :\") \n",
    "print(num) "
   ]
  },
  {
   "cell_type": "code",
   "execution_count": 14,
   "metadata": {},
   "outputs": [
    {
     "data": {
      "text/plain": [
       "str"
      ]
     },
     "execution_count": 14,
     "metadata": {},
     "output_type": "execute_result"
    }
   ],
   "source": [
    "type(num)"
   ]
  },
  {
   "cell_type": "code",
   "execution_count": 15,
   "metadata": {},
   "outputs": [
    {
     "name": "stdout",
     "output_type": "stream",
     "text": [
      "Enter the name:Rajkamal\n",
      "Rajkamal\n"
     ]
    }
   ],
   "source": [
    "name= input(\"Enter the name:\")\n",
    "print(name)"
   ]
  },
  {
   "cell_type": "code",
   "execution_count": 16,
   "metadata": {},
   "outputs": [
    {
     "data": {
      "text/plain": [
       "str"
      ]
     },
     "execution_count": 16,
     "metadata": {},
     "output_type": "execute_result"
    }
   ],
   "source": [
    "type(name)"
   ]
  },
  {
   "cell_type": "markdown",
   "metadata": {},
   "source": [
    "# Taking input from console in Python"
   ]
  },
  {
   "cell_type": "markdown",
   "metadata": {},
   "source": [
    "What is Console in Python? Console (also called Shell) is basically a command line interpreter that takes input from the user i.e one command at a time and interprets it. If it is error free then it runs the command and gives required output otherwise shows the error message."
   ]
  },
  {
   "cell_type": "markdown",
   "metadata": {},
   "source": [
    "Here we write command and to execute the command just press enter key and your command will be interpreted."
   ]
  },
  {
   "cell_type": "markdown",
   "metadata": {},
   "source": [
    "#### Accepting Input from Console\n",
    "User enters the values in the Console and that value is then used in the program as it was required.\n",
    "To take input from the user we make use of a built-in function input()."
   ]
  },
  {
   "cell_type": "code",
   "execution_count": 18,
   "metadata": {},
   "outputs": [
    {
     "name": "stdout",
     "output_type": "stream",
     "text": [
      "5\n"
     ]
    }
   ],
   "source": [
    "# input \n",
    "input1 = input() "
   ]
  },
  {
   "cell_type": "code",
   "execution_count": 19,
   "metadata": {},
   "outputs": [
    {
     "name": "stdout",
     "output_type": "stream",
     "text": [
      "5\n"
     ]
    }
   ],
   "source": [
    "# output \n",
    "print(input1) "
   ]
  },
  {
   "cell_type": "code",
   "execution_count": 20,
   "metadata": {},
   "outputs": [
    {
     "data": {
      "text/plain": [
       "str"
      ]
     },
     "execution_count": 20,
     "metadata": {},
     "output_type": "execute_result"
    }
   ],
   "source": [
    "type(input1)"
   ]
  },
  {
   "cell_type": "markdown",
   "metadata": {},
   "source": [
    "We can also type cast this input to integer, float or string by specifying the input() function inside the type."
   ]
  },
  {
   "cell_type": "markdown",
   "metadata": {},
   "source": [
    "#### Typecasting the input to Integer:\n",
    "There might be conditions when you might require integer input from user/Console, the following code takes two input(integer/float) from console and typecasts them to integer then prints the sum."
   ]
  },
  {
   "cell_type": "code",
   "execution_count": 24,
   "metadata": {},
   "outputs": [
    {
     "name": "stdout",
     "output_type": "stream",
     "text": [
      "25\n",
      "35\n",
      "addition 60\n"
     ]
    }
   ],
   "source": [
    "# input \n",
    "num1 = int(input()) \n",
    "num2 = int(input()) \n",
    "\n",
    "# printing the sum in integer \n",
    "print(\"addition\",num1 + num2) "
   ]
  },
  {
   "cell_type": "markdown",
   "metadata": {},
   "source": [
    "#### Typecasting the input to Float:\n",
    "    To convert the input to float the following code will work out."
   ]
  },
  {
   "cell_type": "code",
   "execution_count": 25,
   "metadata": {},
   "outputs": [
    {
     "name": "stdout",
     "output_type": "stream",
     "text": [
      "25.2\n",
      "25\n",
      "50.2\n"
     ]
    }
   ],
   "source": [
    "# input \n",
    "num1 = float(input()) \n",
    "num2 = float(input()) \n",
    "\n",
    "# printing the sum in float \n",
    "print(num1 + num2) "
   ]
  },
  {
   "cell_type": "code",
   "execution_count": 26,
   "metadata": {},
   "outputs": [
    {
     "name": "stdout",
     "output_type": "stream",
     "text": [
      "52\n",
      "52\n",
      "104.0\n"
     ]
    }
   ],
   "source": [
    "# input \n",
    "num1 = float(input()) \n",
    "num2 = float(input()) \n",
    "\n",
    "# printing the sum in float \n",
    "print(num1 + num2) "
   ]
  },
  {
   "cell_type": "markdown",
   "metadata": {},
   "source": [
    "#### Typecasting the input to String:\n",
    "All kind of input can be converted to string type whether they are float or integer. We make use of keyword str for typecasting."
   ]
  },
  {
   "cell_type": "code",
   "execution_count": 27,
   "metadata": {},
   "outputs": [
    {
     "name": "stdout",
     "output_type": "stream",
     "text": [
      "1234568\n",
      "1234568\n"
     ]
    }
   ],
   "source": [
    "# input \n",
    "string = str(input()) \n",
    "  \n",
    "# output \n",
    "print(string) "
   ]
  },
  {
   "cell_type": "code",
   "execution_count": 29,
   "metadata": {},
   "outputs": [
    {
     "data": {
      "text/plain": [
       "str"
      ]
     },
     "execution_count": 29,
     "metadata": {},
     "output_type": "execute_result"
    }
   ],
   "source": [
    "type(string)"
   ]
  },
  {
   "cell_type": "markdown",
   "metadata": {},
   "source": [
    "# Taking multiple inputs from user in Python"
   ]
  },
  {
   "cell_type": "markdown",
   "metadata": {},
   "source": [
    "Developer often wants a user to enter multiple values or inputs in one line. In C++/C user can take multiple inputs in one line using scanf but in Python user can take multiple values or inputs in one line by two methods.\n",
    "\n",
    "- Using split() method\n",
    "- Using List comprehension"
   ]
  },
  {
   "cell_type": "markdown",
   "metadata": {},
   "source": [
    "#### Using split() method :\n",
    "This function helps in getting a multiple inputs from user . It breaks the given input by the specified separator. If separator is not provided then any white space is a separator. Generally, user use a split() method to split a Python string but one can used it in taking multiple input."
   ]
  },
  {
   "cell_type": "markdown",
   "metadata": {},
   "source": [
    "- syntax: input().split(separator, maxsplit)\n"
   ]
  },
  {
   "cell_type": "code",
   "execution_count": 33,
   "metadata": {},
   "outputs": [
    {
     "name": "stdout",
     "output_type": "stream",
     "text": [
      "Enter a two value: 25 65\n",
      "Number of boys:  25\n",
      "Number of girls:  65\n"
     ]
    }
   ],
   "source": [
    "x, y = input(\"Enter a two value: \").split() \n",
    "print(\"Number of boys: \", x) \n",
    "print(\"Number of girls: \", y) "
   ]
  },
  {
   "cell_type": "code",
   "execution_count": 35,
   "metadata": {},
   "outputs": [
    {
     "name": "stdout",
     "output_type": "stream",
     "text": [
      "Enter a three value: 50 25 25\n",
      "Total number of students:  50\n",
      "Number of boys is :  25\n",
      "Number of girls is :  25\n"
     ]
    }
   ],
   "source": [
    "# taking three inputs at a time \n",
    "x, y, z = input(\"Enter a three value: \").split() \n",
    "print(\"Total number of students: \", x) \n",
    "print(\"Number of boys is : \", y) \n",
    "print(\"Number of girls is : \", z) "
   ]
  },
  {
   "cell_type": "code",
   "execution_count": 36,
   "metadata": {},
   "outputs": [
    {
     "name": "stdout",
     "output_type": "stream",
     "text": [
      "Enter a two value: 2 5\n",
      "First number is 2 and second number is 5\n"
     ]
    }
   ],
   "source": [
    "# taking two inputs at a time \n",
    "a, b = input(\"Enter a two value: \").split() \n",
    "print(\"First number is {} and second number is {}\".format(a, b)) "
   ]
  },
  {
   "cell_type": "markdown",
   "metadata": {},
   "source": [
    "#### Using List comprehension :\n",
    "\n",
    "List comprehension is an elegant way to define and create list in Python. We can create lists just like mathematical statements in one line only. It is also used in getting multiple inputs from a user."
   ]
  },
  {
   "cell_type": "code",
   "execution_count": 39,
   "metadata": {},
   "outputs": [
    {
     "name": "stdout",
     "output_type": "stream",
     "text": [
      "Enter two value: 25 35 \n",
      "First Number is:  25\n",
      "Second Number is:  35\n"
     ]
    }
   ],
   "source": [
    "# taking two input at a time \n",
    "x, y = [int(x) for x in input(\"Enter two value: \").split()] \n",
    "print(\"First Number is: \", x) \n",
    "print(\"Second Number is: \", y)"
   ]
  },
  {
   "cell_type": "code",
   "execution_count": 40,
   "metadata": {},
   "outputs": [
    {
     "name": "stdout",
     "output_type": "stream",
     "text": [
      "Enter three value: 25 36 56\n",
      "First Number is:  25\n",
      "Second Number is:  36\n",
      "Third Number is:  56\n"
     ]
    }
   ],
   "source": [
    "x, y, z = [int(x) for x in input(\"Enter three value: \").split()] \n",
    "print(\"First Number is: \", x) \n",
    "print(\"Second Number is: \", y) \n",
    "print(\"Third Number is: \", z) "
   ]
  },
  {
   "cell_type": "code",
   "execution_count": 41,
   "metadata": {},
   "outputs": [
    {
     "name": "stdout",
     "output_type": "stream",
     "text": [
      "Enter two value: 5 6\n",
      "First number is 5 and second number is 6\n"
     ]
    }
   ],
   "source": [
    "# taking two inputs at a time \n",
    "x, y = [int(x) for x in input(\"Enter two value: \").split()] \n",
    "print(\"First number is {} and second number is {}\".format(x, y)) "
   ]
  },
  {
   "cell_type": "code",
   "execution_count": 42,
   "metadata": {},
   "outputs": [
    {
     "name": "stdout",
     "output_type": "stream",
     "text": [
      "Enter multiple value: 25 35 6 8 9 45 6 54\n",
      "Number of list is:  [25, 35, 6, 8, 9, 45, 6, 54]\n"
     ]
    }
   ],
   "source": [
    "# taking multiple inputs at a time  \n",
    "x = [int(x) for x in input(\"Enter multiple value: \").split()] \n",
    "print(\"Number of list is: \", x) "
   ]
  },
  {
   "cell_type": "code",
   "execution_count": 44,
   "metadata": {},
   "outputs": [
    {
     "data": {
      "text/plain": [
       "list"
      ]
     },
     "execution_count": 44,
     "metadata": {},
     "output_type": "execute_result"
    }
   ],
   "source": [
    "type(x)"
   ]
  },
  {
   "cell_type": "markdown",
   "metadata": {},
   "source": [
    "# Output using print() function"
   ]
  },
  {
   "cell_type": "markdown",
   "metadata": {},
   "source": [
    "The simplest way to produce output is using the print() function where you can pass zero or more expressions separated by commas. This function converts the expressions you pass into a string before writing to the screen."
   ]
  },
  {
   "cell_type": "markdown",
   "metadata": {},
   "source": [
    "#### Syntax: \n",
    "\n",
    "print(value(s), sep= ‘ ‘, end = ‘\\n’, file=file, flush=flush)\n",
    "\n"
   ]
  },
  {
   "cell_type": "markdown",
   "metadata": {},
   "source": [
    "#### Parameters:\n",
    "    - value(s): \n",
    "            Any value, and as many as you like. Will be converted to string before printed\n",
    "            \n",
    "    - sep='separator' : \n",
    "            (Optional) Specify how to separate the objects, if there is more than one.Default: ''\n",
    "            \n",
    "    - end='end': \n",
    "        (Optional) Specify what to print at the end.Default : ‘\\n’\n",
    "    \n",
    "    - file : \n",
    "        (Optional) An object with a write method. Default :sys.stdout\n",
    "    \n",
    "    - flush :\n",
    "        (Optional) A Boolean, specifying if the output is flushed (True) or buffered (False). Default: False"
   ]
  },
  {
   "cell_type": "code",
   "execution_count": 45,
   "metadata": {},
   "outputs": [
    {
     "name": "stdout",
     "output_type": "stream",
     "text": [
      "Rajkamal B Gowda\n"
     ]
    }
   ],
   "source": [
    "print(\"Rajkamal B Gowda\") "
   ]
  },
  {
   "cell_type": "code",
   "execution_count": 47,
   "metadata": {},
   "outputs": [
    {
     "name": "stdout",
     "output_type": "stream",
     "text": [
      "x = 25\n"
     ]
    }
   ],
   "source": [
    "x=25\n",
    "print('x =',x)"
   ]
  },
  {
   "cell_type": "code",
   "execution_count": 48,
   "metadata": {},
   "outputs": [
    {
     "name": "stdout",
     "output_type": "stream",
     "text": [
      "GFG\n"
     ]
    }
   ],
   "source": [
    "# code for disabling the softspace feature  \n",
    "print('G', 'F', 'G', sep ='') "
   ]
  },
  {
   "cell_type": "code",
   "execution_count": 49,
   "metadata": {},
   "outputs": [
    {
     "name": "stdout",
     "output_type": "stream",
     "text": [
      "G F G\n"
     ]
    }
   ],
   "source": [
    "print('G', 'F', 'G') "
   ]
  },
  {
   "cell_type": "code",
   "execution_count": 57,
   "metadata": {},
   "outputs": [
    {
     "name": "stdout",
     "output_type": "stream",
     "text": [
      "Python@Rajkamal\n"
     ]
    }
   ],
   "source": [
    "# using end argument \n",
    "print(\"Python\", end = '@')   \n",
    "print(\"Rajkamal\")  "
   ]
  },
  {
   "cell_type": "code",
   "execution_count": 52,
   "metadata": {},
   "outputs": [
    {
     "name": "stdout",
     "output_type": "stream",
     "text": [
      "Python\n",
      "Rajkamal\n"
     ]
    }
   ],
   "source": [
    "# without using end argument \n",
    "print(\"Python\")   \n",
    "print(\"Rajkamal\")  "
   ]
  },
  {
   "cell_type": "code",
   "execution_count": 58,
   "metadata": {},
   "outputs": [
    {
     "name": "stdout",
     "output_type": "stream",
     "text": [
      "Python Rajkamal\n"
     ]
    }
   ],
   "source": [
    "# using end argument \n",
    "print(\"Python\", end = ' ')   \n",
    "print(\"Rajkamal\")  "
   ]
  },
  {
   "cell_type": "markdown",
   "metadata": {},
   "source": [
    "### How to print without newline in Python?\n"
   ]
  },
  {
   "cell_type": "markdown",
   "metadata": {},
   "source": [
    "Generally people switching from C/C++ to Python wonder how to print two or more variables or statements without going into a new line in python. Since the python print() function by default ends with newline. Python has a predefined format if you use print(a_variable) then it will go to next line automatically."
   ]
  },
  {
   "cell_type": "code",
   "execution_count": 59,
   "metadata": {},
   "outputs": [
    {
     "name": "stdout",
     "output_type": "stream",
     "text": [
      "Raj\n",
      "kamal\n"
     ]
    }
   ],
   "source": [
    "print(\"Raj\")\n",
    "print(\"kamal\")"
   ]
  },
  {
   "cell_type": "code",
   "execution_count": 60,
   "metadata": {},
   "outputs": [
    {
     "name": "stdout",
     "output_type": "stream",
     "text": [
      "Raj kamal\n"
     ]
    }
   ],
   "source": [
    "print(\"Raj\",end=' ')\n",
    "print(\"kamal\")"
   ]
  },
  {
   "cell_type": "code",
   "execution_count": 61,
   "metadata": {},
   "outputs": [
    {
     "name": "stdout",
     "output_type": "stream",
     "text": [
      "Raj kamal\n",
      "B Gowda\n"
     ]
    }
   ],
   "source": [
    "print(\"Raj\",end=' ')\n",
    "print(\"kamal\")\n",
    "print(\"B Gowda\")"
   ]
  },
  {
   "cell_type": "code",
   "execution_count": 62,
   "metadata": {},
   "outputs": [
    {
     "name": "stdout",
     "output_type": "stream",
     "text": [
      "Raj kamal B Gowda\n"
     ]
    }
   ],
   "source": [
    "print(\"Raj\",end=' ')\n",
    "print(\"kamal\",end=' ')\n",
    "print(\"B Gowda\")"
   ]
  },
  {
   "cell_type": "code",
   "execution_count": 63,
   "metadata": {},
   "outputs": [
    {
     "name": "stdout",
     "output_type": "stream",
     "text": [
      "0\n",
      "1\n",
      "2\n",
      "3\n",
      "4\n"
     ]
    }
   ],
   "source": [
    "for i in range(5):\n",
    "    print(i)"
   ]
  },
  {
   "cell_type": "code",
   "execution_count": 64,
   "metadata": {},
   "outputs": [
    {
     "name": "stdout",
     "output_type": "stream",
     "text": [
      "0 1 2 3 4 "
     ]
    }
   ],
   "source": [
    "for i in range(5):\n",
    "    print(i,end=' ')"
   ]
  },
  {
   "cell_type": "markdown",
   "metadata": {},
   "source": [
    "## sep parameter in print()"
   ]
  },
  {
   "cell_type": "markdown",
   "metadata": {},
   "source": [
    "The separator between the arguments to print() function in Python is space by default (softspace feature) , which can be modified and can be made to any character, integer or string as per our choice. The ‘sep’ parameter is used to achieve the same, it is found only in python 3.x or later. It is also used for formatting the output strings."
   ]
  },
  {
   "cell_type": "code",
   "execution_count": 67,
   "metadata": {},
   "outputs": [
    {
     "name": "stdout",
     "output_type": "stream",
     "text": [
      "G F G\n"
     ]
    }
   ],
   "source": [
    "print('G','F','G')"
   ]
  },
  {
   "cell_type": "code",
   "execution_count": 68,
   "metadata": {},
   "outputs": [
    {
     "name": "stdout",
     "output_type": "stream",
     "text": [
      "GFG\n"
     ]
    }
   ],
   "source": [
    "#code for disabling the softspace feature \n",
    "print('G','F','G', sep='')"
   ]
  },
  {
   "cell_type": "code",
   "execution_count": 69,
   "metadata": {},
   "outputs": [
    {
     "name": "stdout",
     "output_type": "stream",
     "text": [
      "09-12-2016\n"
     ]
    }
   ],
   "source": [
    "#for formatting a date \n",
    "print('09','12','2016', sep='-') "
   ]
  },
  {
   "cell_type": "code",
   "execution_count": 70,
   "metadata": {},
   "outputs": [
    {
     "name": "stdout",
     "output_type": "stream",
     "text": [
      "rajkamal@gmail.com\n"
     ]
    }
   ],
   "source": [
    "#another example \n",
    "print('rajkamal','gmail.com', sep='@') "
   ]
  },
  {
   "cell_type": "markdown",
   "metadata": {},
   "source": [
    "The sep parameter when used with end parameter it produces awesome results. Some examples by combining the sep and end parameter."
   ]
  },
  {
   "cell_type": "code",
   "execution_count": 71,
   "metadata": {},
   "outputs": [
    {
     "name": "stdout",
     "output_type": "stream",
     "text": [
      "GFG\n"
     ]
    }
   ],
   "source": [
    "print('G','F', sep='', end='') \n",
    "print('G') "
   ]
  },
  {
   "cell_type": "code",
   "execution_count": 72,
   "metadata": {},
   "outputs": [
    {
     "name": "stdout",
     "output_type": "stream",
     "text": [
      "G FG\n"
     ]
    }
   ],
   "source": [
    "print('G','F', sep=' ', end='') \n",
    "print('G') "
   ]
  },
  {
   "cell_type": "code",
   "execution_count": 75,
   "metadata": {},
   "outputs": [
    {
     "name": "stdout",
     "output_type": "stream",
     "text": [
      "09-12-2016\n",
      "Rajkamal\n"
     ]
    }
   ],
   "source": [
    "#\\n provides new line after printing the year \n",
    "print('09','12', sep='-', end='-2016\\n')\n",
    "print(\"Rajkamal\")"
   ]
  },
  {
   "cell_type": "code",
   "execution_count": 76,
   "metadata": {},
   "outputs": [
    {
     "name": "stdout",
     "output_type": "stream",
     "text": [
      "rajkamalraj@gmail.com\n"
     ]
    }
   ],
   "source": [
    "print('raj','kamal','raj', sep='', end='@') \n",
    "print('gmail',end='.') \n",
    "print('com')"
   ]
  },
  {
   "cell_type": "markdown",
   "metadata": {},
   "source": [
    "## Output Formatting"
   ]
  },
  {
   "cell_type": "markdown",
   "metadata": {},
   "source": [
    "There are several ways to present the output of a program, data can be printed in a human-readable form, or written to a file for future use. Sometimes user often wants more control the formatting of output than simply printing space-separated values. There are several ways to format output."
   ]
  },
  {
   "cell_type": "markdown",
   "metadata": {},
   "source": [
    "#### Formatting output using String modulo operator(%) :"
   ]
  },
  {
   "cell_type": "markdown",
   "metadata": {},
   "source": [
    "The % operator can also be used for string formatting. The modulo operator % is overloaded by the string class to perform string formatting. Therefore, it is often called string modulo (or sometimes even called modulus) operator.\n",
    "String modulo operator ( % ) is still available in Python(3.x) and user is using it widely. But nowadays the old style of formatting is removed from the language."
   ]
  },
  {
   "cell_type": "code",
   "execution_count": 88,
   "metadata": {},
   "outputs": [
    {
     "name": "stdout",
     "output_type": "stream",
     "text": [
      "Geeks :  1, Portal :  5.33\n"
     ]
    }
   ],
   "source": [
    "# print integer and float value \n",
    "print(\"Geeks : % 2d, Portal : % 2.2f\" %(1, 05.333))  "
   ]
  },
  {
   "cell_type": "code",
   "execution_count": 91,
   "metadata": {},
   "outputs": [
    {
     "name": "stdout",
     "output_type": "stream",
     "text": [
      "Geeks :  1, Portal :                 5.33\n"
     ]
    }
   ],
   "source": [
    "print(\"Geeks : % 2d, Portal : % 20.2f\" %(1, 05.333))  "
   ]
  },
  {
   "cell_type": "code",
   "execution_count": 92,
   "metadata": {},
   "outputs": [
    {
     "name": "stdout",
     "output_type": "stream",
     "text": [
      "Total students :  240, Boys :  120\n"
     ]
    }
   ],
   "source": [
    "# print integer value \n",
    "print(\"Total students : % 3d, Boys : % 2d\" %(240, 120)) "
   ]
  },
  {
   "cell_type": "code",
   "execution_count": 105,
   "metadata": {},
   "outputs": [
    {
     "name": "stdout",
     "output_type": "stream",
     "text": [
      " 0031\n"
     ]
    }
   ],
   "source": [
    "# print octal value \n",
    "print(\"% 2.4o\"% (25)) "
   ]
  },
  {
   "cell_type": "code",
   "execution_count": 106,
   "metadata": {},
   "outputs": [
    {
     "name": "stdout",
     "output_type": "stream",
     "text": [
      " 031\n"
     ]
    }
   ],
   "source": [
    "# print octal value \n",
    "print(\"% 2.3o\"% (25)) "
   ]
  },
  {
   "cell_type": "code",
   "execution_count": 100,
   "metadata": {},
   "outputs": [
    {
     "name": "stdout",
     "output_type": "stream",
     "text": [
      " 3.561E+02\n"
     ]
    }
   ],
   "source": [
    "# print exponential value \n",
    "print(\"% 10.3E\"% (356.08977)) "
   ]
  },
  {
   "cell_type": "code",
   "execution_count": 107,
   "metadata": {},
   "outputs": [
    {
     "name": "stdout",
     "output_type": "stream",
     "text": [
      "           3.561E+02\n"
     ]
    }
   ],
   "source": [
    "# print exponential value \n",
    "print(\"% 20.3E\"% (356.08977)) "
   ]
  },
  {
   "cell_type": "markdown",
   "metadata": {},
   "source": [
    "Let’s take a look at the placeholders in our example.\n",
    "\n",
    "The first placeholder “%2d” is used for the first component of our tuple, i.e. the integer 1. The number will be printed with 2 characters. As 1 consists only of one digits, the output is padded with 1 leading blanks.\n",
    "The second one “%8.2f” is a format description for a float number. Like other placeholders, it is introduced with the % character. This is followed by the total number of digits the string should contain. This number includes the decimal point and all the digits, i.e. before and after the decimal point.\n",
    "Our float number 05.333 has to be formatted with 5 characters. The decimal part of the number or the precision is set to 2, i.e. the number following the “.” in our placeholder. Finally, the last character “f” of our placeholder stands for “float”"
   ]
  },
  {
   "cell_type": "markdown",
   "metadata": {},
   "source": [
    "#### Formatting output using format method :\n",
    "The format() method was added in Python(2.6). Format method of strings requires more manual effort. User use {} to mark where a variable will be substituted and can provide detailed formatting directives, but user also needs to provide the information to be formatted. This method lets us concatenate elements within an output through positional formatting."
   ]
  },
  {
   "cell_type": "code",
   "execution_count": 108,
   "metadata": {},
   "outputs": [
    {
     "name": "stdout",
     "output_type": "stream",
     "text": [
      "I love rajkamal for \"honesty!\"\n"
     ]
    }
   ],
   "source": [
    "# using format() method \n",
    "print('I love {} for \"{}!\"'.format('rajkamal', 'honesty'))"
   ]
  },
  {
   "cell_type": "code",
   "execution_count": 109,
   "metadata": {},
   "outputs": [
    {
     "name": "stdout",
     "output_type": "stream",
     "text": [
      "Raj and Kamal\n",
      "Kamal and Raj\n"
     ]
    }
   ],
   "source": [
    "# using format() method and refering  \n",
    "# a position of the object \n",
    "print('{0} and {1}'.format('Raj', 'Kamal')) \n",
    "  \n",
    "print('{1} and {0}'.format('Raj', 'Kamal')) "
   ]
  },
  {
   "cell_type": "code",
   "execution_count": 110,
   "metadata": {},
   "outputs": [
    {
     "name": "stdout",
     "output_type": "stream",
     "text": [
      "Number one student is Raj, kamal, and B Gowda.\n"
     ]
    }
   ],
   "source": [
    "# combining positional and keyword arguments \n",
    "print('Number one student is {0}, {1}, and {other}.'.format('Raj', 'kamal', other ='B Gowda')) \n",
    "  "
   ]
  },
  {
   "cell_type": "code",
   "execution_count": 116,
   "metadata": {},
   "outputs": [
    {
     "name": "stdout",
     "output_type": "stream",
     "text": [
      "Rajs :12, Portal : 0.55\n"
     ]
    }
   ],
   "source": [
    "# using format() method with number  \n",
    "\n",
    "print(\"Rajs :{0:2d}, Portal :{1:5.2f}\". format(12, 00.546)) "
   ]
  },
  {
   "cell_type": "code",
   "execution_count": 118,
   "metadata": {},
   "outputs": [
    {
     "name": "stdout",
     "output_type": "stream",
     "text": [
      "Second argument:  11, first one: 47.42\n"
     ]
    }
   ],
   "source": [
    "# Changing positional argument \n",
    "print(\"Second argument: {1:3d}, first one: {0:3.2f}\".format(47.42, 11)) "
   ]
  },
  {
   "cell_type": "code",
   "execution_count": 121,
   "metadata": {},
   "outputs": [
    {
     "name": "stdout",
     "output_type": "stream",
     "text": [
      "Rajs:   453,  Portal:   59.059\n"
     ]
    }
   ],
   "source": [
    "print(\"Rajs: {a:5d},  Portal: {p:8.3f}\". format(a = 453, p = 59.05896)) "
   ]
  },
  {
   "cell_type": "code",
   "execution_count": 134,
   "metadata": {},
   "outputs": [],
   "source": [
    "# Python program to show format () is used in dictionary \n",
    "  \n",
    "tab = {'Raj': 4127, 'Taj': 4098, 'Maj': 8637678} "
   ]
  },
  {
   "cell_type": "code",
   "execution_count": 130,
   "metadata": {},
   "outputs": [
    {
     "name": "stdout",
     "output_type": "stream",
     "text": [
      "Raj: 8637678; For: 4098; Taj: 8637678\n"
     ]
    }
   ],
   "source": [
    "# using format() in dictionary \n",
    "print('Raj: {0[Maj]:d}; For: {0[Taj]:d}; Taj: {0[Maj]:d}'.format(tab)) "
   ]
  },
  {
   "cell_type": "code",
   "execution_count": 131,
   "metadata": {},
   "outputs": [],
   "source": [
    "data = dict(fun =\"Rajkamals\", adj =\"Portal\") "
   ]
  },
  {
   "cell_type": "code",
   "execution_count": 132,
   "metadata": {},
   "outputs": [
    {
     "name": "stdout",
     "output_type": "stream",
     "text": [
      "I love Rajkamals computer Portal\n"
     ]
    }
   ],
   "source": [
    "# using format() in dictionary \n",
    "print(\"I love {fun} computer {adj}\".format(**data)) "
   ]
  },
  {
   "cell_type": "markdown",
   "metadata": {},
   "source": [
    "#### Formatting output using String method :\n",
    "In this output is formatted by using string slicing and concatenation operations. The string type has some methods that help in formatting a output in an fancier way. Some of method which help in formatting a output are str.ljust(), str.rjust(), str.centre()"
   ]
  },
  {
   "cell_type": "code",
   "execution_count": 139,
   "metadata": {},
   "outputs": [],
   "source": [
    "cstr = \"I love reading books\""
   ]
  },
  {
   "cell_type": "code",
   "execution_count": 146,
   "metadata": {},
   "outputs": [
    {
     "name": "stdout",
     "output_type": "stream",
     "text": [
      "Center aligned string with fillchr: \n",
      "##########I love reading books##########\n"
     ]
    }
   ],
   "source": [
    "# Printing the center aligned string with fillchr  \n",
    "print (\"Center aligned string with fillchr: \")  \n",
    "print (cstr.center(40, '#'))  "
   ]
  },
  {
   "cell_type": "code",
   "execution_count": 148,
   "metadata": {},
   "outputs": [
    {
     "name": "stdout",
     "output_type": "stream",
     "text": [
      "The left aligned string is : \n",
      "I love reading books--------------------\n"
     ]
    }
   ],
   "source": [
    "# Printing the left aligned   \n",
    "# string with \"-\" padding   \n",
    "print (\"The left aligned string is : \")  \n",
    "print (cstr.ljust(40, '-')) "
   ]
  },
  {
   "cell_type": "code",
   "execution_count": 150,
   "metadata": {},
   "outputs": [
    {
     "name": "stdout",
     "output_type": "stream",
     "text": [
      "The right aligned string is : \n",
      "--------------------I love reading books\n"
     ]
    }
   ],
   "source": [
    "# Printing the right aligned string with \"-\" padding   \n",
    "\n",
    "print (\"The right aligned string is : \")  \n",
    "print (cstr.rjust(40, '-')) "
   ]
  },
  {
   "cell_type": "code",
   "execution_count": null,
   "metadata": {},
   "outputs": [],
   "source": []
  }
 ],
 "metadata": {
  "kernelspec": {
   "display_name": "Python 3",
   "language": "python",
   "name": "python3"
  },
  "language_info": {
   "codemirror_mode": {
    "name": "ipython",
    "version": 3
   },
   "file_extension": ".py",
   "mimetype": "text/x-python",
   "name": "python",
   "nbconvert_exporter": "python",
   "pygments_lexer": "ipython3",
   "version": "3.7.3"
  }
 },
 "nbformat": 4,
 "nbformat_minor": 2
}
