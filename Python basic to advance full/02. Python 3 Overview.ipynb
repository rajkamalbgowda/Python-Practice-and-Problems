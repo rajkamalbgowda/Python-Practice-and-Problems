{
 "cells": [
  {
   "cell_type": "markdown",
   "metadata": {},
   "source": [
    "# Python 3 basics\n"
   ]
  },
  {
   "cell_type": "code",
   "execution_count": null,
   "metadata": {},
   "outputs": [],
   "source": []
  },
  {
   "cell_type": "markdown",
   "metadata": {},
   "source": [
    "### Variables and Data Structures"
   ]
  },
  {
   "cell_type": "markdown",
   "metadata": {},
   "source": [
    "In other programming languages like C, C++ and Java, you will need to declare the type of variables but in Python you don’t need to do that. Just type in the variable and when values will be given to it, then it will automatically know whether the value given would be a int, float or char or even a String."
   ]
  },
  {
   "cell_type": "code",
   "execution_count": 1,
   "metadata": {},
   "outputs": [
    {
     "name": "stdout",
     "output_type": "stream",
     "text": [
      "3\n"
     ]
    }
   ],
   "source": [
    "# Python program to declare variables \n",
    "\n",
    "myNumber = 3\n",
    "print(myNumber) "
   ]
  },
  {
   "cell_type": "code",
   "execution_count": 2,
   "metadata": {},
   "outputs": [
    {
     "name": "stdout",
     "output_type": "stream",
     "text": [
      "4.5\n"
     ]
    }
   ],
   "source": [
    "myNumber2 = 4.5\n",
    "print(myNumber2) "
   ]
  },
  {
   "cell_type": "code",
   "execution_count": 3,
   "metadata": {},
   "outputs": [
    {
     "name": "stdout",
     "output_type": "stream",
     "text": [
      "helloworld\n"
     ]
    }
   ],
   "source": [
    "myNumber =\"helloworld\"\n",
    "print(myNumber) "
   ]
  },
  {
   "cell_type": "markdown",
   "metadata": {},
   "source": [
    "##### Python have 4 types of built in Data Structures namely List, Dictionary, Tuple and Set."
   ]
  },
  {
   "cell_type": "markdown",
   "metadata": {},
   "source": [
    "### List"
   ]
  },
  {
   "cell_type": "markdown",
   "metadata": {},
   "source": [
    "List is the most basic Data Structure in python. List is mutable data structure i.e items can be added to list later after the list creation. Its like you are going to shop at local market and made a list of some items and later on you can add more and more items to the list.\n",
    "\n",
    "append() function is used to add data to the list."
   ]
  },
  {
   "cell_type": "code",
   "execution_count": 4,
   "metadata": {},
   "outputs": [],
   "source": [
    "# creates a empty list \n",
    "\n",
    "nums = [] "
   ]
  },
  {
   "cell_type": "code",
   "execution_count": 5,
   "metadata": {},
   "outputs": [
    {
     "data": {
      "text/plain": [
       "[]"
      ]
     },
     "execution_count": 5,
     "metadata": {},
     "output_type": "execute_result"
    }
   ],
   "source": [
    "nums"
   ]
  },
  {
   "cell_type": "code",
   "execution_count": 6,
   "metadata": {},
   "outputs": [],
   "source": [
    "# appending data in list \n",
    "nums.append(21) \n",
    "nums.append(40.5) \n",
    "nums.append(\"String\")"
   ]
  },
  {
   "cell_type": "code",
   "execution_count": 7,
   "metadata": {},
   "outputs": [
    {
     "data": {
      "text/plain": [
       "[21, 40.5, 'String']"
      ]
     },
     "execution_count": 7,
     "metadata": {},
     "output_type": "execute_result"
    }
   ],
   "source": [
    "nums #showing"
   ]
  },
  {
   "cell_type": "code",
   "execution_count": 8,
   "metadata": {},
   "outputs": [
    {
     "name": "stdout",
     "output_type": "stream",
     "text": [
      "[21, 40.5, 'String']\n"
     ]
    }
   ],
   "source": [
    "print(nums) #printing"
   ]
  },
  {
   "cell_type": "markdown",
   "metadata": {},
   "source": [
    "##### input() function is used to take input from the user."
   ]
  },
  {
   "cell_type": "code",
   "execution_count": 9,
   "metadata": {},
   "outputs": [
    {
     "name": "stdout",
     "output_type": "stream",
     "text": [
      "Enter your name: 6\n"
     ]
    }
   ],
   "source": [
    "# getting input from user \n",
    "name = input(\"Enter your name: \") "
   ]
  },
  {
   "cell_type": "code",
   "execution_count": 10,
   "metadata": {},
   "outputs": [
    {
     "data": {
      "text/plain": [
       "'6'"
      ]
     },
     "execution_count": 10,
     "metadata": {},
     "output_type": "execute_result"
    }
   ],
   "source": [
    "name"
   ]
  },
  {
   "cell_type": "code",
   "execution_count": 11,
   "metadata": {},
   "outputs": [
    {
     "name": "stdout",
     "output_type": "stream",
     "text": [
      "hello 6\n"
     ]
    }
   ],
   "source": [
    "print(\"hello\", name) "
   ]
  },
  {
   "cell_type": "code",
   "execution_count": 12,
   "metadata": {},
   "outputs": [
    {
     "name": "stdout",
     "output_type": "stream",
     "text": [
      "Enter num1: 8\n",
      "Enter num2: 9\n",
      "Product is:  72\n"
     ]
    }
   ],
   "source": [
    "# Python3 program to get input from user \n",
    "  \n",
    "# accepting integer from the user\n",
    "\n",
    "num1 = int(input(\"Enter num1: \"))  \n",
    "num2 = int(input(\"Enter num2: \")) \n",
    "  \n",
    "num3 = num1 * num2 \n",
    "print(\"Product is: \", num3) "
   ]
  },
  {
   "cell_type": "markdown",
   "metadata": {},
   "source": [
    "### Selection\n",
    "\n"
   ]
  },
  {
   "cell_type": "markdown",
   "metadata": {},
   "source": [
    "Selection in Python is made using the two keywords ‘if’ and ‘else’ and 'elif' (elseif)"
   ]
  },
  {
   "cell_type": "code",
   "execution_count": 13,
   "metadata": {},
   "outputs": [
    {
     "name": "stdout",
     "output_type": "stream",
     "text": [
      "Num1 is good\n"
     ]
    }
   ],
   "source": [
    "# Python program to illustrate \n",
    "# selection statement \n",
    "  \n",
    "num1 = 36\n",
    "\n",
    "if(num1>12): \n",
    "    print(\"Num1 is good\") \n",
    "elif(num1>35): \n",
    "    print(\"Num2 is not gooooo....\") \n",
    "else: \n",
    "    print(\"Num2 is great\") "
   ]
  },
  {
   "cell_type": "code",
   "execution_count": 14,
   "metadata": {},
   "outputs": [
    {
     "name": "stdout",
     "output_type": "stream",
     "text": [
      "Num2 is not gooooo....\n"
     ]
    }
   ],
   "source": [
    "num1 = 36\n",
    "\n",
    "if(num1>12 and num1<35): \n",
    "    print(\"Num1 is good\") \n",
    "elif(num1>35): \n",
    "    print(\"Num2 is not gooooo....\") \n",
    "else: \n",
    "    print(\"Num2 is great\") "
   ]
  },
  {
   "cell_type": "markdown",
   "metadata": {},
   "source": [
    "### Functions\n",
    "\n",
    "You can think of functions like a bunch of code that is intended to do a particular task in the whole Python script. Python used the keyword ‘def’ to define a function."
   ]
  },
  {
   "cell_type": "code",
   "execution_count": 15,
   "metadata": {},
   "outputs": [],
   "source": [
    "def hello(): \n",
    "    print(\"hello\") \n",
    "    print(\"hello again\")"
   ]
  },
  {
   "cell_type": "code",
   "execution_count": 16,
   "metadata": {},
   "outputs": [
    {
     "name": "stdout",
     "output_type": "stream",
     "text": [
      "hello\n",
      "hello again\n"
     ]
    }
   ],
   "source": [
    "hello()"
   ]
  },
  {
   "cell_type": "markdown",
   "metadata": {},
   "source": [
    "Now as we know any program starts from a ‘main’ function…lets create a main function like in many other programming languages."
   ]
  },
  {
   "cell_type": "code",
   "execution_count": 17,
   "metadata": {},
   "outputs": [],
   "source": [
    "# function with main \n",
    "def getInteger(): \n",
    "    result = int(input(\"Enter integer: \")) \n",
    "    return result \n",
    "  \n",
    "def Main(): \n",
    "    print(\"Started\") \n",
    "    output = getInteger()      \n",
    "    print(output) \n",
    "    \n",
    "# calling the getInteger function and  \n",
    "# storing its returned value in the output variable    "
   ]
  },
  {
   "cell_type": "code",
   "execution_count": 18,
   "metadata": {},
   "outputs": [
    {
     "name": "stdout",
     "output_type": "stream",
     "text": [
      "Enter integer: 56\n"
     ]
    },
    {
     "data": {
      "text/plain": [
       "56"
      ]
     },
     "execution_count": 18,
     "metadata": {},
     "output_type": "execute_result"
    }
   ],
   "source": [
    "getInteger()"
   ]
  },
  {
   "cell_type": "code",
   "execution_count": 21,
   "metadata": {},
   "outputs": [
    {
     "name": "stdout",
     "output_type": "stream",
     "text": [
      "Started\n",
      "Enter integer: 52\n",
      "52\n"
     ]
    }
   ],
   "source": [
    "Main()"
   ]
  },
  {
   "cell_type": "code",
   "execution_count": 22,
   "metadata": {},
   "outputs": [
    {
     "name": "stdout",
     "output_type": "stream",
     "text": [
      "Started\n",
      "Enter integer: 13\n",
      "13\n"
     ]
    }
   ],
   "source": [
    "# now we are required to tell Python  \n",
    "# for 'Main' function existence \n",
    "if __name__==\"__main__\": \n",
    "    Main() "
   ]
  },
  {
   "cell_type": "markdown",
   "metadata": {},
   "source": [
    "### Iteration (Looping)\n",
    "\n"
   ]
  },
  {
   "cell_type": "code",
   "execution_count": 23,
   "metadata": {},
   "outputs": [
    {
     "name": "stdout",
     "output_type": "stream",
     "text": [
      "0\n",
      "1\n",
      "2\n",
      "3\n",
      "4\n"
     ]
    }
   ],
   "source": [
    "# Python program to illustrate \n",
    "# a simple for loop \n",
    "  \n",
    "for step in range(5):     \n",
    "    print(step) "
   ]
  },
  {
   "cell_type": "markdown",
   "metadata": {},
   "source": [
    "### Modules\n",
    "\n"
   ]
  },
  {
   "cell_type": "markdown",
   "metadata": {},
   "source": [
    "Python has a very rich module library that has several functions to do many tasks."
   ]
  },
  {
   "cell_type": "markdown",
   "metadata": {},
   "source": [
    "‘import’ keyword is used to import a particular module into your python code. For instance consider the following program."
   ]
  },
  {
   "cell_type": "code",
   "execution_count": 4,
   "metadata": {},
   "outputs": [
    {
     "name": "stdout",
     "output_type": "stream",
     "text": [
      "Enter a number: -25.6\n",
      "25.6\n"
     ]
    }
   ],
   "source": [
    "# Python program to illustrate \n",
    "# math module \n",
    "import math \n",
    "\n",
    "def Main(): \n",
    "    num = float(input(\"Enter a number: \")) \n",
    "    num = math.fabs(num)            # fabs is used to get the absolute value of a decimal \n",
    "    print(num) \n",
    "    \n",
    "if __name__==\"__main__\": \n",
    "    Main() \n"
   ]
  }
 ],
 "metadata": {
  "kernelspec": {
   "display_name": "Python 3",
   "language": "python",
   "name": "python3"
  },
  "language_info": {
   "codemirror_mode": {
    "name": "ipython",
    "version": 3
   },
   "file_extension": ".py",
   "mimetype": "text/x-python",
   "name": "python",
   "nbconvert_exporter": "python",
   "pygments_lexer": "ipython3",
   "version": "3.7.3"
  }
 },
 "nbformat": 4,
 "nbformat_minor": 2
}
