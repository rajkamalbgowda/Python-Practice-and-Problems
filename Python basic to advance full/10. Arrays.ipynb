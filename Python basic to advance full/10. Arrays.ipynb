{
 "cells": [
  {
   "cell_type": "markdown",
   "metadata": {},
   "source": [
    "# Array in Python "
   ]
  },
  {
   "cell_type": "markdown",
   "metadata": {},
   "source": [
    "Other than some generic containers like list, Python in its definition can also handle containers with specified data types. Array can be handled in python by module named “array“. They can be useful when we have to manipulate only a specific data type values."
   ]
  },
  {
   "cell_type": "markdown",
   "metadata": {},
   "source": [
    "### Operations on Array :"
   ]
  },
  {
   "cell_type": "markdown",
   "metadata": {},
   "source": [
    "###  array(data type, value list) :- \n",
    "This function is used to create an array with data type and value list specified in its arguments. Some of the data types are mentioned in the table below."
   ]
  },
  {
   "cell_type": "raw",
   "metadata": {},
   "source": [
    "   #TYPE CODE\t               #C TYPE\t                #PYTHON TYPE\t                    #MINIMUM SIZE IN BYTES\n",
    "   \n",
    "    ‘b’\t                     signed char\t                int\t                                  1\n",
    "    ‘B’\t                     unsigned char\t                int\t                                  1\n",
    "    ‘u’\t                     Py_UNICODE\t                    unicode character\t                  2\n",
    "    ‘h’\t                     signed short\t                int\t                                  2\n",
    "    ‘H’\t                     unsigned short\t                int\t                                  2\n",
    "    ‘i’\t                     signed int\t                    int\t                                  2\n",
    "    ‘I’\t                     unsigned int\t                int\t                                  2\n",
    "    ‘l’                      signed long\t                int                                   4\n",
    "    ‘L’\t                     unsigned long\t                int\t                                  4\n",
    "    ‘q’                      signed long long\t            int\t                                  8\n",
    "    ‘Q’\t                     unsigned long long         \tint\t                                  8\n",
    "    ‘f’                      float\t                        float\t                              4\n",
    "    ‘d’                      double\t                        float\t                              8"
   ]
  },
  {
   "cell_type": "code",
   "execution_count": 1,
   "metadata": {},
   "outputs": [],
   "source": [
    "# importing \"array\" for array operations \n",
    "import array"
   ]
  },
  {
   "cell_type": "code",
   "execution_count": 2,
   "metadata": {},
   "outputs": [],
   "source": [
    "# initializing array with array values \n",
    "# initializes array with signed integers \n",
    "\n",
    "arr = array.array('i', [1, 2, 3])"
   ]
  },
  {
   "cell_type": "code",
   "execution_count": 3,
   "metadata": {},
   "outputs": [
    {
     "data": {
      "text/plain": [
       "array('i', [1, 2, 3])"
      ]
     },
     "execution_count": 3,
     "metadata": {},
     "output_type": "execute_result"
    }
   ],
   "source": [
    "arr"
   ]
  },
  {
   "cell_type": "code",
   "execution_count": 7,
   "metadata": {},
   "outputs": [
    {
     "name": "stdout",
     "output_type": "stream",
     "text": [
      "1\n",
      "2\n",
      "3\n"
     ]
    }
   ],
   "source": [
    "for i in range (0, 3): \n",
    "    print (arr[i]) "
   ]
  },
  {
   "cell_type": "code",
   "execution_count": 8,
   "metadata": {},
   "outputs": [
    {
     "name": "stdout",
     "output_type": "stream",
     "text": [
      "1 2 3 "
     ]
    }
   ],
   "source": [
    "for i in range (0, 3): \n",
    "    print (arr[i], end=\" \") "
   ]
  },
  {
   "cell_type": "markdown",
   "metadata": {},
   "source": [
    "### append() :- \n",
    "This function is used to add the value mentioned in its arguments at the end of the array."
   ]
  },
  {
   "cell_type": "code",
   "execution_count": 9,
   "metadata": {},
   "outputs": [],
   "source": [
    "# using append() to insert new value at end \n",
    "arr.append(4)"
   ]
  },
  {
   "cell_type": "code",
   "execution_count": 10,
   "metadata": {},
   "outputs": [
    {
     "data": {
      "text/plain": [
       "array('i', [1, 2, 3, 4])"
      ]
     },
     "execution_count": 10,
     "metadata": {},
     "output_type": "execute_result"
    }
   ],
   "source": [
    "arr"
   ]
  },
  {
   "cell_type": "code",
   "execution_count": 11,
   "metadata": {},
   "outputs": [
    {
     "name": "stdout",
     "output_type": "stream",
     "text": [
      "1\n",
      "2\n",
      "3\n",
      "4\n"
     ]
    }
   ],
   "source": [
    "for i in range(len(arr)):\n",
    "    print(arr[i])"
   ]
  },
  {
   "cell_type": "markdown",
   "metadata": {},
   "source": [
    "### insert(i,x) :- \n",
    "    This function is used to add the value at the position specified in its argument."
   ]
  },
  {
   "cell_type": "code",
   "execution_count": 12,
   "metadata": {},
   "outputs": [],
   "source": [
    "# using insert() to insert value at specific position \n",
    "# inserts 5 at 2nd position \n",
    "\n",
    "arr.insert(2, 5)"
   ]
  },
  {
   "cell_type": "code",
   "execution_count": 13,
   "metadata": {},
   "outputs": [
    {
     "name": "stdout",
     "output_type": "stream",
     "text": [
      "1 2 5 3 4 "
     ]
    }
   ],
   "source": [
    "for i in range (0, 5): \n",
    "    print (arr[i], end=\" \") "
   ]
  },
  {
   "cell_type": "markdown",
   "metadata": {},
   "source": [
    "### pop() :-\n",
    "This function removes the element at the position mentioned in its argument, and returns it."
   ]
  },
  {
   "cell_type": "code",
   "execution_count": 14,
   "metadata": {},
   "outputs": [],
   "source": [
    "# importing \"array\" for array operations \n",
    "import array "
   ]
  },
  {
   "cell_type": "code",
   "execution_count": 21,
   "metadata": {},
   "outputs": [],
   "source": [
    "# initializing array with array values \n",
    "# initializes array with signed integers \n",
    "arr= array.array('i',[1, 2, 3, 1, 5])  "
   ]
  },
  {
   "cell_type": "code",
   "execution_count": 22,
   "metadata": {},
   "outputs": [
    {
     "name": "stdout",
     "output_type": "stream",
     "text": [
      "1 2 3 1 5 "
     ]
    }
   ],
   "source": [
    "for i in range (0,5): \n",
    "    print (arr[i],end=\" \") "
   ]
  },
  {
   "cell_type": "code",
   "execution_count": 23,
   "metadata": {},
   "outputs": [
    {
     "data": {
      "text/plain": [
       "3"
      ]
     },
     "execution_count": 23,
     "metadata": {},
     "output_type": "execute_result"
    }
   ],
   "source": [
    "arr.pop(2)"
   ]
  },
  {
   "cell_type": "code",
   "execution_count": 25,
   "metadata": {},
   "outputs": [
    {
     "name": "stdout",
     "output_type": "stream",
     "text": [
      "1 2 1 5 "
     ]
    }
   ],
   "source": [
    "for i in range (0,4): \n",
    "    print (arr[i],end=\" \") "
   ]
  },
  {
   "cell_type": "markdown",
   "metadata": {},
   "source": [
    "### remove() :-\n",
    "    This function is used to remove the first occurrence of the value mentioned in its arguments."
   ]
  },
  {
   "cell_type": "code",
   "execution_count": 26,
   "metadata": {},
   "outputs": [],
   "source": [
    "# using remove() to remove 1st occurrence of 1 \n",
    "arr.remove(1) "
   ]
  },
  {
   "cell_type": "code",
   "execution_count": 27,
   "metadata": {},
   "outputs": [
    {
     "name": "stdout",
     "output_type": "stream",
     "text": [
      "2\n",
      "1\n",
      "5\n"
     ]
    }
   ],
   "source": [
    "for i in range(len(arr)):\n",
    "    print(arr[i])"
   ]
  },
  {
   "cell_type": "markdown",
   "metadata": {},
   "source": [
    "### index() :-\n",
    "    This function returns the index of the first occurrence of value mentioned in arguments."
   ]
  },
  {
   "cell_type": "code",
   "execution_count": 28,
   "metadata": {},
   "outputs": [],
   "source": [
    "# importing \"array\" for array operations \n",
    "import array \n",
    "   \n",
    "# initializing array with array values \n",
    "# initializes array with signed integers \n",
    "arr= array.array('i',[1, 2, 3, 1, 2, 5])"
   ]
  },
  {
   "cell_type": "code",
   "execution_count": 30,
   "metadata": {},
   "outputs": [
    {
     "name": "stdout",
     "output_type": "stream",
     "text": [
      "1 2 3 1 2 5 "
     ]
    }
   ],
   "source": [
    "for i in range(len(arr)):\n",
    "    print(arr[i],end=\" \")"
   ]
  },
  {
   "cell_type": "code",
   "execution_count": 31,
   "metadata": {},
   "outputs": [
    {
     "data": {
      "text/plain": [
       "1"
      ]
     },
     "execution_count": 31,
     "metadata": {},
     "output_type": "execute_result"
    }
   ],
   "source": [
    "# using index() to print index of 1st occurrenece of 2 \n",
    "arr.index(2)"
   ]
  },
  {
   "cell_type": "code",
   "execution_count": 32,
   "metadata": {},
   "outputs": [
    {
     "data": {
      "text/plain": [
       "2"
      ]
     },
     "execution_count": 32,
     "metadata": {},
     "output_type": "execute_result"
    }
   ],
   "source": [
    "arr.index(3)"
   ]
  },
  {
   "cell_type": "markdown",
   "metadata": {},
   "source": [
    "### reverse() :- \n",
    "    This function reverses the array."
   ]
  },
  {
   "cell_type": "code",
   "execution_count": 33,
   "metadata": {},
   "outputs": [],
   "source": [
    "#using reverse() to reverse the array \n",
    "arr.reverse() "
   ]
  },
  {
   "cell_type": "code",
   "execution_count": 34,
   "metadata": {},
   "outputs": [
    {
     "name": "stdout",
     "output_type": "stream",
     "text": [
      "5 2 1 3 2 1 "
     ]
    }
   ],
   "source": [
    "for i in range(len(arr)):\n",
    "    print(arr[i],end=\" \")"
   ]
  },
  {
   "cell_type": "markdown",
   "metadata": {},
   "source": [
    "### typecode :- \n",
    "    This function returns the data type by which array is initialised."
   ]
  },
  {
   "cell_type": "code",
   "execution_count": 35,
   "metadata": {},
   "outputs": [],
   "source": [
    "# importing \"array\" for array operations \n",
    "import array \n",
    "   \n",
    "# initializing array with array values and initializes array with signed integers \n",
    "arr= array.array('i',[1, 2, 3, 1, 2, 5])"
   ]
  },
  {
   "cell_type": "code",
   "execution_count": 37,
   "metadata": {},
   "outputs": [
    {
     "data": {
      "text/plain": [
       "'i'"
      ]
     },
     "execution_count": 37,
     "metadata": {},
     "output_type": "execute_result"
    }
   ],
   "source": [
    "# using typecode to print datatype of array \n",
    "\n",
    "arr.typecode"
   ]
  },
  {
   "cell_type": "markdown",
   "metadata": {},
   "source": [
    "### itemsize :- \n",
    "    This function returns size in bytes of a single array element."
   ]
  },
  {
   "cell_type": "code",
   "execution_count": 38,
   "metadata": {},
   "outputs": [
    {
     "name": "stdout",
     "output_type": "stream",
     "text": [
      "4\n"
     ]
    }
   ],
   "source": [
    "# using itemsize to print itemsize of array \n",
    "\n",
    "print (arr.itemsize) "
   ]
  },
  {
   "cell_type": "markdown",
   "metadata": {},
   "source": [
    "### buffer_info() :- \n",
    "    Returns a tuple representing the address in which array is stored and number of elements in it."
   ]
  },
  {
   "cell_type": "code",
   "execution_count": 39,
   "metadata": {},
   "outputs": [
    {
     "name": "stdout",
     "output_type": "stream",
     "text": [
      "(2367225212240, 6)\n"
     ]
    }
   ],
   "source": [
    "# using buffer_info() to print buffer info. of array \n",
    "\n",
    "print (arr.buffer_info()) "
   ]
  },
  {
   "cell_type": "markdown",
   "metadata": {},
   "source": [
    "### count() :- \n",
    "    This function counts the number of occurrences of argument mentioned in array."
   ]
  },
  {
   "cell_type": "code",
   "execution_count": 42,
   "metadata": {},
   "outputs": [],
   "source": [
    "# importing \"array\" for array operations \n",
    "import array \n",
    "   \n",
    "arr1 = array.array('i',[1, 2, 3, 1, 2, 5])  \n",
    " \n",
    "arr2 = array.array('i',[1, 2, 3])  "
   ]
  },
  {
   "cell_type": "code",
   "execution_count": 43,
   "metadata": {},
   "outputs": [
    {
     "data": {
      "text/plain": [
       "2"
      ]
     },
     "execution_count": 43,
     "metadata": {},
     "output_type": "execute_result"
    }
   ],
   "source": [
    "arr1.count(1)"
   ]
  },
  {
   "cell_type": "markdown",
   "metadata": {},
   "source": [
    "### extend(arr) :-\n",
    "    This function appends a whole array mentioned in its arguments to the specified array."
   ]
  },
  {
   "cell_type": "code",
   "execution_count": 44,
   "metadata": {},
   "outputs": [],
   "source": [
    "# using extend() to add array 2 elements to array 1  \n",
    "arr1.extend(arr2) "
   ]
  },
  {
   "cell_type": "code",
   "execution_count": 45,
   "metadata": {},
   "outputs": [
    {
     "name": "stdout",
     "output_type": "stream",
     "text": [
      "1 2 3 1 2 5 1 2 3 "
     ]
    }
   ],
   "source": [
    "for i in range (len(arr1)): \n",
    "    print (arr1[i],end=\" \") "
   ]
  },
  {
   "cell_type": "markdown",
   "metadata": {},
   "source": [
    "### fromlist(list) :-\n",
    "    This function is used to append a list mentioned in its argument to end of array."
   ]
  },
  {
   "cell_type": "code",
   "execution_count": 46,
   "metadata": {},
   "outputs": [],
   "source": [
    "# importing \"array\" for array operations \n",
    "import array \n",
    "   \n",
    "# initializing array with array values \n",
    "# initializes array with signed integers \n",
    "arr = array.array('i',[1, 2, 3, 1, 2, 5])  \n",
    "  \n",
    "# initializing list \n",
    "li = [1, 2, 3] "
   ]
  },
  {
   "cell_type": "code",
   "execution_count": 48,
   "metadata": {},
   "outputs": [],
   "source": [
    "# using fromlist() to append list at end of array \n",
    "arr.fromlist(li) "
   ]
  },
  {
   "cell_type": "code",
   "execution_count": 49,
   "metadata": {},
   "outputs": [
    {
     "name": "stdout",
     "output_type": "stream",
     "text": [
      "1 2 3 1 2 5 1 2 3 1 2 3 "
     ]
    }
   ],
   "source": [
    "for i in range (len(arr)): \n",
    "    print (arr[i],end=\" \") "
   ]
  },
  {
   "cell_type": "markdown",
   "metadata": {},
   "source": [
    "### tolist() :-\n",
    "    This function is used to transform an array into a list."
   ]
  },
  {
   "cell_type": "code",
   "execution_count": 50,
   "metadata": {},
   "outputs": [],
   "source": [
    "# using tolist() to convert array into list \n",
    "li2 = arr.tolist()"
   ]
  },
  {
   "cell_type": "code",
   "execution_count": 51,
   "metadata": {},
   "outputs": [
    {
     "data": {
      "text/plain": [
       "[1, 2, 3, 1, 2, 5, 1, 2, 3, 1, 2, 3]"
      ]
     },
     "execution_count": 51,
     "metadata": {},
     "output_type": "execute_result"
    }
   ],
   "source": [
    "li2"
   ]
  }
 ],
 "metadata": {
  "kernelspec": {
   "display_name": "Python 3",
   "language": "python",
   "name": "python3"
  },
  "language_info": {
   "codemirror_mode": {
    "name": "ipython",
    "version": 3
   },
   "file_extension": ".py",
   "mimetype": "text/x-python",
   "name": "python",
   "nbconvert_exporter": "python",
   "pygments_lexer": "ipython3",
   "version": "3.7.3"
  }
 },
 "nbformat": 4,
 "nbformat_minor": 2
}
