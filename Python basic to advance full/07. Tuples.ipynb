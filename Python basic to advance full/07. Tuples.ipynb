{
 "cells": [
  {
   "cell_type": "markdown",
   "metadata": {},
   "source": [
    "# Tuples"
   ]
  },
  {
   "cell_type": "markdown",
   "metadata": {},
   "source": [
    "Tuple is a collection of Python objects much like a list. The sequence of values stored in a tuple can be of any type, and they are indexed by integers.\n",
    "Values of a tuple are syntactically separated by ‘commas’. Although it is not necessary, it is more common to define a tuple by closing the sequence of values in parentheses. This helps in understanding the Python tuples more easily"
   ]
  },
  {
   "cell_type": "markdown",
   "metadata": {},
   "source": [
    "### Creating a Tuple\n",
    "In Python, tuples are created by placing sequence of values separated by ‘comma’ with or without the use of parentheses for grouping of data sequence.\n",
    "\n",
    "Note – Creation of Python tuple without the use of parentheses is known as Tuple Packing."
   ]
  },
  {
   "cell_type": "code",
   "execution_count": 2,
   "metadata": {},
   "outputs": [
    {
     "name": "stdout",
     "output_type": "stream",
     "text": [
      "Initial empty Tuple: \n",
      "()\n"
     ]
    }
   ],
   "source": [
    "#Creating an empty Tuple \n",
    "\n",
    "Tuple1 = () \n",
    "\n",
    "print(\"Initial empty Tuple: \") \n",
    "print (Tuple1) "
   ]
  },
  {
   "cell_type": "code",
   "execution_count": 5,
   "metadata": {},
   "outputs": [
    {
     "name": "stdout",
     "output_type": "stream",
     "text": [
      "Tuple with the use of String: \n",
      "('Python', 'For')\n"
     ]
    }
   ],
   "source": [
    "#Creatting a Tuple with the use of string \n",
    "\n",
    "Tuple1 = ('Python', 'For') \n",
    "print(\"Tuple with the use of String: \") \n",
    "print(Tuple1) "
   ]
  },
  {
   "cell_type": "code",
   "execution_count": 6,
   "metadata": {},
   "outputs": [
    {
     "name": "stdout",
     "output_type": "stream",
     "text": [
      "\n",
      "Tuple using List: \n",
      "(1, 2, 4, 5, 6)\n"
     ]
    }
   ],
   "source": [
    "# Creating a Tuple with the use of list \n",
    "\n",
    "list1 = [1, 2, 4, 5, 6] \n",
    "print(\"\\nTuple using List: \") \n",
    "print(tuple(list1)) "
   ]
  },
  {
   "cell_type": "code",
   "execution_count": 9,
   "metadata": {},
   "outputs": [
    {
     "name": "stdout",
     "output_type": "stream",
     "text": [
      "\n",
      "Tuple with the use of function: \n",
      "('R', 'a', 'j', 'k', 'a', 'm', 'a', 'l')\n"
     ]
    }
   ],
   "source": [
    "#Creating a Tuple with the use of built-in function \n",
    "Tuple1 = tuple('Rajkamal') \n",
    "print(\"\\nTuple with the use of function: \") \n",
    "print(Tuple1) "
   ]
  },
  {
   "cell_type": "code",
   "execution_count": 11,
   "metadata": {},
   "outputs": [],
   "source": [
    "tuple2=tuple('My name is raj')"
   ]
  },
  {
   "cell_type": "code",
   "execution_count": 12,
   "metadata": {},
   "outputs": [
    {
     "data": {
      "text/plain": [
       "('M', 'y', ' ', 'n', 'a', 'm', 'e', ' ', 'i', 's', ' ', 'r', 'a', 'j')"
      ]
     },
     "execution_count": 12,
     "metadata": {},
     "output_type": "execute_result"
    }
   ],
   "source": [
    "tuple2"
   ]
  },
  {
   "cell_type": "markdown",
   "metadata": {},
   "source": [
    "### Accessing of Tuples\n",
    "Tuples are immutable, and usually, they contain a sequence of heterogeneous elements that are accessed via unpacking or indexing (or even by attribute in the case of named tuples). Lists are mutable, and their elements are usually homogeneous and are accessed by iterating over the list.\n",
    "\n",
    "NOTE : In unpacking of tuple number of variables on left hand side should be equal to number of values in given tuple a."
   ]
  },
  {
   "cell_type": "code",
   "execution_count": 15,
   "metadata": {},
   "outputs": [
    {
     "name": "stdout",
     "output_type": "stream",
     "text": [
      "\n",
      "First element of Tuple: \n",
      "a\n"
     ]
    }
   ],
   "source": [
    "#Accessing Tuple with Indexing \n",
    "\n",
    "Tuple1 = tuple(\"Raj\") \n",
    "\n",
    "print(\"\\nFirst element of Tuple: \") \n",
    "\n",
    "print(Tuple1[1]) "
   ]
  },
  {
   "cell_type": "code",
   "execution_count": 16,
   "metadata": {},
   "outputs": [],
   "source": [
    "#Tuple unpacking \n",
    "Tuple1 = (\"Python\", \"For\", \"Everybody\")"
   ]
  },
  {
   "cell_type": "code",
   "execution_count": 17,
   "metadata": {},
   "outputs": [
    {
     "name": "stdout",
     "output_type": "stream",
     "text": [
      "\n",
      "Values after unpacking: \n",
      "Python\n",
      "For\n",
      "Everybody\n"
     ]
    }
   ],
   "source": [
    "#This line unpack values of Tuple1 \n",
    "\n",
    "a, b, c = Tuple1 \n",
    "\n",
    "print(\"\\nValues after unpacking: \") \n",
    "\n",
    "print(a) \n",
    "print(b) \n",
    "print(c) "
   ]
  },
  {
   "cell_type": "markdown",
   "metadata": {},
   "source": [
    "### Concatenation of Tuples\n",
    "Concatenation of tuple is the process of joining of two or more Tuples. Concatenation is done by the use of ‘+’ operator. Concatenation of tuples is done always from the end of the original tuple. Other arithmetic operations do not apply on Tuples.\n",
    "Note- Only same datatypes can be combined with concatenation, an error arises if a list and a tuple are combined."
   ]
  },
  {
   "cell_type": "code",
   "execution_count": 18,
   "metadata": {},
   "outputs": [],
   "source": [
    "Tuple1 = (0, 1, 2, 3) \n",
    "Tuple2 = ('apple', 'mango', 'bannana')"
   ]
  },
  {
   "cell_type": "code",
   "execution_count": 19,
   "metadata": {},
   "outputs": [],
   "source": [
    "Tuple3 = Tuple1 + Tuple2 "
   ]
  },
  {
   "cell_type": "code",
   "execution_count": 20,
   "metadata": {},
   "outputs": [
    {
     "name": "stdout",
     "output_type": "stream",
     "text": [
      "(0, 1, 2, 3, 'apple', 'mango', 'bannana')\n"
     ]
    }
   ],
   "source": [
    "print(Tuple3)"
   ]
  },
  {
   "cell_type": "markdown",
   "metadata": {},
   "source": [
    "### Slicing of Tuple\n",
    "Slicing of a Tuple is done to fetch a specific range or slice of sub-elements from a Tuple. Slicing can also be done to lists and arrays. Indexing in a list results to fetching a single element whereas Slicing allows to fetch a set of elements.\n",
    "Note- Negative Increment values can also be used to reverse the sequence of Tuples"
   ]
  },
  {
   "cell_type": "code",
   "execution_count": 21,
   "metadata": {},
   "outputs": [],
   "source": [
    "# Slicing of a Tuple with Numbers \n",
    "\n",
    "Tuple1 = tuple('RAJKAMALBGOWDA')   "
   ]
  },
  {
   "cell_type": "code",
   "execution_count": 22,
   "metadata": {},
   "outputs": [
    {
     "name": "stdout",
     "output_type": "stream",
     "text": [
      "Removal of First Element: \n",
      "('A', 'J', 'K', 'A', 'M', 'A', 'L', 'B', 'G', 'O', 'W', 'D', 'A')\n"
     ]
    }
   ],
   "source": [
    "# Removing First element \n",
    "\n",
    "print(\"Removal of First Element: \") \n",
    "print(Tuple1[1:])"
   ]
  },
  {
   "cell_type": "code",
   "execution_count": 23,
   "metadata": {},
   "outputs": [
    {
     "name": "stdout",
     "output_type": "stream",
     "text": [
      "\n",
      "Tuple after sequence of Element is reversed: \n",
      "('A', 'D', 'W', 'O', 'G', 'B', 'L', 'A', 'M', 'A', 'K', 'J', 'A', 'R')\n"
     ]
    }
   ],
   "source": [
    "# Reversing the Tuple \n",
    "\n",
    "print(\"\\nTuple after sequence of Element is reversed: \") \n",
    "print(Tuple1[::-1]) "
   ]
  },
  {
   "cell_type": "code",
   "execution_count": 24,
   "metadata": {},
   "outputs": [
    {
     "name": "stdout",
     "output_type": "stream",
     "text": [
      "\n",
      "Printing elements between Range 4-9: \n",
      "('A', 'M', 'A', 'L', 'B')\n"
     ]
    }
   ],
   "source": [
    "# Printing elements of a Range \n",
    "print(\"\\nPrinting elements between Range 4-9: \") \n",
    "print(Tuple1[4:9])"
   ]
  },
  {
   "cell_type": "markdown",
   "metadata": {},
   "source": [
    "### Deleting a Tuple\n",
    "Tuples are immutable and hence they do not allow deletion of a part of it. Entire tuple gets deleted by the use of del() method.\n",
    "Note- Printing of Tuple after deletion results to an Error."
   ]
  },
  {
   "cell_type": "code",
   "execution_count": 26,
   "metadata": {},
   "outputs": [],
   "source": [
    "# Deleting a Tuple \n",
    "  \n",
    "Tuple1 = (0, 1, 2, 3, 4) \n",
    "del Tuple1 "
   ]
  },
  {
   "cell_type": "code",
   "execution_count": 27,
   "metadata": {},
   "outputs": [
    {
     "ename": "NameError",
     "evalue": "name 'Tuple1' is not defined",
     "output_type": "error",
     "traceback": [
      "\u001b[1;31m---------------------------------------------------------------------------\u001b[0m",
      "\u001b[1;31mNameError\u001b[0m                                 Traceback (most recent call last)",
      "\u001b[1;32m<ipython-input-27-ed5286875d0d>\u001b[0m in \u001b[0;36m<module>\u001b[1;34m\u001b[0m\n\u001b[1;32m----> 1\u001b[1;33m \u001b[0mprint\u001b[0m\u001b[1;33m(\u001b[0m\u001b[0mTuple1\u001b[0m\u001b[1;33m)\u001b[0m\u001b[1;33m\u001b[0m\u001b[1;33m\u001b[0m\u001b[0m\n\u001b[0m",
      "\u001b[1;31mNameError\u001b[0m: name 'Tuple1' is not defined"
     ]
    }
   ],
   "source": [
    "print(Tuple1) "
   ]
  },
  {
   "cell_type": "markdown",
   "metadata": {},
   "source": [
    "### sorted()\n",
    "input elements in the tuple and return a new sorted list"
   ]
  },
  {
   "cell_type": "markdown",
   "metadata": {},
   "source": [
    "Syntax : sorted(iterable, key, reverse)"
   ]
  },
  {
   "cell_type": "code",
   "execution_count": 28,
   "metadata": {},
   "outputs": [],
   "source": [
    "t=(2,4,6,8,9,0,4,7)"
   ]
  },
  {
   "cell_type": "code",
   "execution_count": 31,
   "metadata": {},
   "outputs": [
    {
     "data": {
      "text/plain": [
       "[0, 2, 4, 4, 6, 7, 8, 9]"
      ]
     },
     "execution_count": 31,
     "metadata": {},
     "output_type": "execute_result"
    }
   ],
   "source": [
    "sorted(t)"
   ]
  },
  {
   "cell_type": "code",
   "execution_count": 33,
   "metadata": {},
   "outputs": [
    {
     "data": {
      "text/plain": [
       "[9, 8, 7, 6, 4, 4, 2, 0]"
      ]
     },
     "execution_count": 33,
     "metadata": {},
     "output_type": "execute_result"
    }
   ],
   "source": [
    "sorted(t,reverse=True) #an additional key argument is also present which can be used for dictionaries"
   ]
  }
 ],
 "metadata": {
  "kernelspec": {
   "display_name": "Python 3",
   "language": "python",
   "name": "python3"
  },
  "language_info": {
   "codemirror_mode": {
    "name": "ipython",
    "version": 3
   },
   "file_extension": ".py",
   "mimetype": "text/x-python",
   "name": "python",
   "nbconvert_exporter": "python",
   "pygments_lexer": "ipython3",
   "version": "3.7.3"
  }
 },
 "nbformat": 4,
 "nbformat_minor": 2
}
